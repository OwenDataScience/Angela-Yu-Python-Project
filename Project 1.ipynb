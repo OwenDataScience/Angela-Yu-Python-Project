{
 "cells": [
  {
   "cell_type": "code",
   "execution_count": 23,
   "id": "e6f05984",
   "metadata": {},
   "outputs": [
    {
     "name": "stdout",
     "output_type": "stream",
     "text": [
      "Enter a name: ddddd\n",
      "The number of characters in the name is: 5\n"
     ]
    }
   ],
   "source": [
    "name = input(\"Enter a name: \"); print(\"The number of characters in the name is:\", len(name))\n"
   ]
  },
  {
   "cell_type": "code",
   "execution_count": 24,
   "id": "40e6ea3c",
   "metadata": {},
   "outputs": [
    {
     "name": "stdout",
     "output_type": "stream",
     "text": [
      "what is your name? gtrf\n",
      "4\n"
     ]
    }
   ],
   "source": [
    "print(len(input(\"what is your name? \")))"
   ]
  },
  {
   "cell_type": "code",
   "execution_count": 30,
   "id": "c496b73b",
   "metadata": {},
   "outputs": [
    {
     "name": "stdout",
     "output_type": "stream",
     "text": [
      "a:h\n",
      "b:h\n"
     ]
    }
   ],
   "source": [
    "a = input(\"a:\")\n",
    "b = input(\"b:\")\n",
    "\n",
    "\n",
    "\n",
    "print(\"a=\" + a)\n",
    "print(\"b=\" + b)"
   ]
  },
  {
   "cell_type": "code",
   "execution_count": 31,
   "id": "7224460b",
   "metadata": {},
   "outputs": [
    {
     "name": "stdout",
     "output_type": "stream",
     "text": [
      "a:5\n",
      "b:100\n",
      "Before swapping: a=5 b=100\n",
      "After swapping: a=100 b=5\n"
     ]
    }
   ],
   "source": [
    "a = input(\"a:\")\n",
    "b = input(\"b:\")\n",
    "\n",
    "print(\"Before swapping: a=\" + a + \" b=\" + b)\n",
    "\n",
    "# Swap the values of a and b using a temporary variable\n",
    "temp = a\n",
    "a = b\n",
    "b = temp\n",
    "\n",
    "print(\"After swapping: a=\" + a + \" b=\" + b)"
   ]
  },
  {
   "cell_type": "code",
   "execution_count": 36,
   "id": "c5260c5a",
   "metadata": {},
   "outputs": [
    {
     "name": "stdout",
     "output_type": "stream",
     "text": [
      "4\n",
      "sting\n"
     ]
    },
    {
     "data": {
      "text/plain": [
       "12"
      ]
     },
     "execution_count": 36,
     "metadata": {},
     "output_type": "execute_result"
    }
   ],
   "source": [
    "def function1(x):\n",
    "    print(x)\n",
    "    print(\"sting\")\n",
    "    return 3*x\n",
    "\n",
    "function1(4)"
   ]
  },
  {
   "cell_type": "code",
   "execution_count": 35,
   "id": "6a0a7687",
   "metadata": {},
   "outputs": [
    {
     "name": "stdout",
     "output_type": "stream",
     "text": [
      "12\n"
     ]
    }
   ],
   "source": [
    "print(a)"
   ]
  },
  {
   "cell_type": "code",
   "execution_count": 42,
   "id": "b1c65eed",
   "metadata": {},
   "outputs": [
    {
     "name": "stdout",
     "output_type": "stream",
     "text": [
      "What is your name? hey\n",
      "3\n"
     ]
    }
   ],
   "source": [
    "name = input(\"What is your name? \")\n",
    "length = len(name)\n",
    "print(length)"
   ]
  },
  {
   "cell_type": "code",
   "execution_count": 15,
   "id": "929c112f",
   "metadata": {},
   "outputs": [
    {
     "name": "stdout",
     "output_type": "stream",
     "text": [
      "Welcome to the Band Name Generator.\n",
      "What's the name of the city you grew up in?\n",
      "hey\n",
      "What's your pet's name?\n",
      "na\n",
      "Your band name could be heyna\n"
     ]
    }
   ],
   "source": [
    "# Python Project\n",
    "\n",
    "#1. Create a Greeting for your program.\n",
    "#2. Ask the user for the city that they grew up in.\n",
    "#3. Ask the user for the name of a pet.\n",
    "#4. Combine the name of their city and pet and show them their band name.\n",
    "#5. Make sure the input cursor shows on a new line, see example at :  https://band-name-generator-end.appbrewery.repl.run/\n",
    "\n",
    "#1. Create a Greeting for your program.\n",
    "print('Welcome to the Band Name Generator.')\n",
    "\n",
    "#2. Ask the user for the city that they grew up in.\n",
    "city = input(\"What's the name of the city you grew up in?\\n\")\n",
    "\n",
    "#3. Ask the user for the name of a pet.\n",
    "pet = input(\"What's your pet's name?\\n\")\n",
    "\n",
    "#4. Combine the name of their city and pet and show them their band name.\n",
    "#   band_name = \"{} {}\".format(city_name, pet_name)\n",
    "#   print(\"Your band name could be {}\".format(band_name))\n",
    "\n",
    "print(\"Your band name could be \" + city + \"\" + pet)\n"
   ]
  },
  {
   "cell_type": "code",
   "execution_count": 14,
   "id": "d5fe4411",
   "metadata": {},
   "outputs": [
    {
     "name": "stdout",
     "output_type": "stream",
     "text": [
      "Welcome to the Band Name Generator.\n",
      "What's the name of the city you grew up in?\n",
      "hey\n",
      "What's your pet's name?\n",
      "bu\n",
      "Your band name could be hey bu\n"
     ]
    }
   ],
   "source": [
    "print('Welcome to the Band Name Generator.')\n",
    "city_name = input(\"What's the name of the city you grew up in?\\n\")\n",
    "pet_name = input(\"What's your pet's name?\\n\")\n",
    "band_name = \"{} {}\".format(city_name, pet_name)\n",
    "print(\"Your band name could be {}\".format(band_name))"
   ]
  },
  {
   "cell_type": "code",
   "execution_count": 21,
   "id": "205082e8",
   "metadata": {},
   "outputs": [],
   "source": [
    "# How can we concatenate strings in Python?\n",
    "\n",
    "# Using the format() function \n",
    "# Using the + operator "
   ]
  },
  {
   "cell_type": "code",
   "execution_count": 23,
   "id": "a08d2fad",
   "metadata": {},
   "outputs": [
    {
     "name": "stdout",
     "output_type": "stream",
     "text": [
      "String 1: Hello\n",
      "String 2: World\n",
      "Concatenated two different strings: HelloWorld\n"
     ]
    }
   ],
   "source": [
    "str1=\"Hello\"\n",
    "str2=\"World\"\n",
    "print (\"String 1:\",str1)\n",
    "print (\"String 2:\",str2)\n",
    "str=str1 + str2\n",
    "print(\"Concatenated two different strings:\",str)"
   ]
  },
  {
   "cell_type": "code",
   "execution_count": null,
   "id": "7527007b",
   "metadata": {},
   "outputs": [],
   "source": []
  }
 ],
 "metadata": {
  "kernelspec": {
   "display_name": "Python 3 (ipykernel)",
   "language": "python",
   "name": "python3"
  },
  "language_info": {
   "codemirror_mode": {
    "name": "ipython",
    "version": 3
   },
   "file_extension": ".py",
   "mimetype": "text/x-python",
   "name": "python",
   "nbconvert_exporter": "python",
   "pygments_lexer": "ipython3",
   "version": "3.9.12"
  }
 },
 "nbformat": 4,
 "nbformat_minor": 5
}
